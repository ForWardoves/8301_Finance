{
 "cells": [
  {
   "cell_type": "code",
   "execution_count": 87,
   "metadata": {},
   "outputs": [],
   "source": [
    "import scipy.stats as sps\n",
    "import numpy as np\n",
    "import numpy_financial as npf\n",
    "import pandas as pd"
   ]
  },
  {
   "cell_type": "markdown",
   "metadata": {},
   "source": [
    "# Question 1"
   ]
  },
  {
   "cell_type": "markdown",
   "metadata": {},
   "source": [
    "> 1. An individual divides an investment between hedge funds that earn (before fees) -21%, -11%, +21%, +25%, +27%, and +31%.  All hedge funds charge 2 plus 20%. \n",
    ">\n",
    "> - What is the overall return on the investments? \n",
    ">\n",
    "> - How is it divided between the hedge fund and the investor? \n",
    "> \n",
    "> - How does your answer change if a fund of funds charging 1 plus 5% is used. \n",
    ">\n",
    "> (Assume that a hedge fund’s incentive fee of 20% is paid on profits net of the management fee. The fund of fund incentive fee of 5% applies to the total profits, net of management fees, from the hedge funds.)\n",
    "\n",
    "Assuming that this individual is dividing his/her investment to the listed hedge funds in equal portions, the breakdown of the overall investment return is as followed: \n",
    "\n",
    "- Overall return, before fee: **12%**, which can be divided into: \n",
    "  - Fee payment of fund managers: **6.8%**\n",
    "  - Profit retained by the investor: **5.2%**\n",
    "  \n",
    "If a fund of fund rate of 1 plus 5% is further charged, then the breakdown will be changed: \n",
    "\n",
    "- Overall return before fee will remain unchanged: **12%**, including: \n",
    "  - Fee payment of fund managers: **5.51%**\n",
    "  - (New) fee payment to investment managers (fund of funds): **1.29%**\n",
    "  - Profit retained by the investor: **5.2%**\n",
    "\n",
    "Detailed calculation can be seen below: "
   ]
  },
  {
   "cell_type": "code",
   "execution_count": 85,
   "metadata": {},
   "outputs": [],
   "source": [
    "def fee_calculation(pre_fee_profit: float, management_fee: float = 0.02, incentive_rate: float = 0.2, verbose = 1): \n",
    "    if pre_fee_profit <= 0: \n",
    "        # For un-profited funds, only management fee applies: \n",
    "        man_fee = management_fee\n",
    "        inc_fee = 0\n",
    "    else: \n",
    "        # FOr profit funds: \n",
    "        man_fee = management_fee\n",
    "        inc_fee = incentive_rate * (pre_fee_profit - management_fee)\n",
    "    total_fee = man_fee + inc_fee\n",
    "    total_profit = pre_fee_profit - total_fee\n",
    "    if verbose ==1: \n",
    "        print(f'Fund return (before fees): {100*pre_fee_profit}%, fee at {100*management_fee} plus {100*incentive_rate}% | Total fee: {100*total_fee:.1f}% | Post-fee return {100*total_profit:.1f}%')\n",
    "    return (total_fee, total_profit)"
   ]
  },
  {
   "cell_type": "code",
   "execution_count": 86,
   "metadata": {},
   "outputs": [
    {
     "name": "stdout",
     "output_type": "stream",
     "text": [
      "Fund return (before fees): -21.0%, fee at 2.0 plus 20.0% | Total fee: 2.0% | Post-fee return -23.0%\n",
      "Fund return (before fees): -11.0%, fee at 2.0 plus 20.0% | Total fee: 2.0% | Post-fee return -13.0%\n",
      "Fund return (before fees): 21.0%, fee at 2.0 plus 20.0% | Total fee: 5.8% | Post-fee return 15.2%\n",
      "Fund return (before fees): 25.0%, fee at 2.0 plus 20.0% | Total fee: 6.6% | Post-fee return 18.4%\n",
      "Fund return (before fees): 27.0%, fee at 2.0 plus 20.0% | Total fee: 7.0% | Post-fee return 20.0%\n",
      "Fund return (before fees): 31.0%, fee at 2.0 plus 20.0% | Total fee: 7.8% | Post-fee return 23.2%\n",
      "---------------------------------------------------------\n",
      "overall fund return, before fees: 12.00%\n",
      "overall fund return, after fees: 6.80%\n",
      "dividend paid to individual fund managers: 5.20%\n",
      "---------------------------------------------------------\n",
      "overall fund return, after hedge fund fees & fund of funds fee: 5.51%\n",
      "dividend paid to individual fund managers: 5.20%\n",
      "dividend paid to investment manager: 1.29%\n"
     ]
    }
   ],
   "source": [
    "pre_fee_profits = [-0.21, -0.11, 0.21, 0.25, 0.27, 0.31]\n",
    "fee = []\n",
    "overall_return = []\n",
    "\n",
    "for profit in pre_fee_profits: \n",
    "    result = fee_calculation(profit)\n",
    "    fee.append(result[0])\n",
    "    overall_return.append(result[1])\n",
    "\n",
    "fund_of_funds = fee_calculation(np.mean(overall_return), 0.01, 0.05, 0)\n",
    "\n",
    "print('---------------------------------------------------------')\n",
    "print(f'overall fund return, before fees: {np.mean(pre_fee_profits)*100:.2f}%')\n",
    "print(f'overall fund return, after fees: {np.mean(overall_return)*100:.2f}%')\n",
    "print(f'dividend paid to individual fund managers: {np.mean(fee)*100:.2f}%')\n",
    "print('---------------------------------------------------------')\n",
    "print(f'overall fund return, after hedge fund fees & fund of funds fee: {np.mean(fund_of_funds[1])*100:.2f}%')\n",
    "print(f'dividend paid to individual fund managers: {np.mean(fee)*100:.2f}%')\n",
    "print(f'dividend paid to investment manager: {np.mean(fund_of_funds[0])*100:.2f}%')"
   ]
  },
  {
   "cell_type": "markdown",
   "metadata": {},
   "source": [
    "\\pagebreak\n",
    "# Question 2"
   ]
  },
  {
   "cell_type": "markdown",
   "metadata": {},
   "source": [
    "> 2. How does Table 7.1 in text change if the principal assigned to the senior, mezzanine, and equity tranche in Figure 7.4 are 72%, 22%, and 6% for the ABS and 70%, 25% and 5% for the ABS CDO?"
   ]
  },
  {
   "cell_type": "code",
   "execution_count": 157,
   "metadata": {},
   "outputs": [
    {
     "data": {
      "text/html": [
       "<div>\n",
       "<style scoped>\n",
       "    .dataframe tbody tr th:only-of-type {\n",
       "        vertical-align: middle;\n",
       "    }\n",
       "\n",
       "    .dataframe tbody tr th {\n",
       "        vertical-align: top;\n",
       "    }\n",
       "\n",
       "    .dataframe thead th {\n",
       "        text-align: right;\n",
       "    }\n",
       "</style>\n",
       "<table border=\"1\" class=\"dataframe\">\n",
       "  <thead>\n",
       "    <tr style=\"text-align: right;\">\n",
       "      <th></th>\n",
       "      <th>Losses to Subprime Portfolios</th>\n",
       "      <th>Losses to Mezzanine Tranche of ABS</th>\n",
       "      <th>Losses to Equity Tranche of ABS CDO</th>\n",
       "      <th>Losses to Mezzanine Tranche of ABS CDO</th>\n",
       "      <th>Losses to Senior Tranche of ABS CDO</th>\n",
       "    </tr>\n",
       "  </thead>\n",
       "  <tbody>\n",
       "    <tr>\n",
       "      <th>0</th>\n",
       "      <td>10%</td>\n",
       "      <td>18%</td>\n",
       "      <td>100%</td>\n",
       "      <td>53%</td>\n",
       "      <td>19%</td>\n",
       "    </tr>\n",
       "    <tr>\n",
       "      <th>1</th>\n",
       "      <td>15%</td>\n",
       "      <td>41%</td>\n",
       "      <td>100%</td>\n",
       "      <td>100%</td>\n",
       "      <td>16%</td>\n",
       "    </tr>\n",
       "    <tr>\n",
       "      <th>2</th>\n",
       "      <td>20%</td>\n",
       "      <td>64%</td>\n",
       "      <td>100%</td>\n",
       "      <td>100%</td>\n",
       "      <td>48%</td>\n",
       "    </tr>\n",
       "    <tr>\n",
       "      <th>3</th>\n",
       "      <td>25%</td>\n",
       "      <td>86%</td>\n",
       "      <td>100%</td>\n",
       "      <td>100%</td>\n",
       "      <td>81%</td>\n",
       "    </tr>\n",
       "  </tbody>\n",
       "</table>\n",
       "</div>"
      ],
      "text/plain": [
       "  Losses to Subprime Portfolios Losses to Mezzanine Tranche of ABS  \\\n",
       "0                           10%                                18%   \n",
       "1                           15%                                41%   \n",
       "2                           20%                                64%   \n",
       "3                           25%                                86%   \n",
       "\n",
       "  Losses to Equity Tranche of ABS CDO Losses to Mezzanine Tranche of ABS CDO  \\\n",
       "0                                100%                                    53%   \n",
       "1                                100%                                   100%   \n",
       "2                                100%                                   100%   \n",
       "3                                100%                                   100%   \n",
       "\n",
       "  Losses to Senior Tranche of ABS CDO  \n",
       "0                                 19%  \n",
       "1                                 16%  \n",
       "2                                 48%  \n",
       "3                                 81%  "
      ]
     },
     "execution_count": 157,
     "metadata": {},
     "output_type": "execute_result"
    }
   ],
   "source": [
    "abs_combo = pd.Series({'senior': 0.72, 'mezzanine': 0.22, 'equity': 0.06}) #AAA, BBB, Equity\n",
    "cdo_combo = pd.Series({'senior': 0.70, 'mezzanine': 0.25, 'equity': 0.05}) #AAA, BBB, Equity\n",
    "\n",
    "losses = [0.1, 0.15, 0.2, 0.25]\n",
    "sub_losses = []\n",
    "losses_to_tranches = pd.DataFrame()\n",
    "\n",
    "for loss in losses: \n",
    "    # Calculate losses to subprime portfolio: \n",
    "    mez_trench_loss = (loss - abs_combo.equity)/abs_combo.mezzanine\n",
    "    sub_losses.append(mez_trench_loss)\n",
    "    # Calculate losses to ABS CDO: \n",
    "    cdo_loss = pd.Series(np.zeros(3), index=['equity', 'mezzanine', 'senior'])\n",
    "    loss = mez_trench_loss\n",
    "    for tranch in ['equity', 'mezzanine', 'senior']: \n",
    "        if loss >= cdo_combo[tranch]: \n",
    "            cdo_loss[tranch] = 1\n",
    "            loss -= cdo_combo[tranch]\n",
    "        else: \n",
    "            cdo_loss[tranch] = loss/cdo_combo[tranch]\n",
    "    losses_to_tranches[mez_trench_loss] = cdo_loss\n",
    "\n",
    "losses_to_tranches = losses_to_tranches.T.reset_index()\n",
    "losses_to_tranches['Losses to Subprime Portfolios'] = losses\n",
    "losses_to_tranches = losses_to_tranches.iloc[:, [4,0,1,2,3]]\n",
    "losses_to_tranches.rename(columns = {'index': 'Losses to Mezzanine Tranche of ABS',\n",
    "                                     'equity': 'Losses to Equity Tranche of ABS CDO',\n",
    "                                     'mezzanine': 'Losses to Mezzanine Tranche of ABS CDO',\n",
    "                                     'senior': 'Losses to Senior Tranche of ABS CDO'}, inplace=True)\n",
    "\n",
    "def change_data_type(cell): \n",
    "    return format(cell, \".0%\")\n",
    "losses_to_tranches = losses_to_tranches.map(change_data_type)\n",
    "losses_to_tranches\n",
    "\n",
    "\n"
   ]
  },
  {
   "cell_type": "markdown",
   "metadata": {},
   "source": [
    "\\pagebreak\n",
    "# Question 3"
   ]
  },
  {
   "cell_type": "markdown",
   "metadata": {},
   "source": [
    "> 3.\tVariable x has a uniform distribution with values between 5 and 15 being equally likely. Variable y has a Pareto distribution. A Gaussian copula is used to define the correlation between the two distributions. The Pareto distribution for variable y has a probability density function:\n",
    "$$\n",
    "\\frac{ac^{a}}{y^{a+1}}\n",
    "$$\n",
    "> For value of $y$ between $c$ and $infinity$ where $c=4$ and $a=0.5$. Produce a table similar to Table 9.5 in the text considering values of $x$ equal to 7, 9, 11, and 13 and values of $y$ equal to 5, 10, 30 and 60. Assume a copula correlation of 0.4. A spreadsheet for calculating the cumulative bivariate normal distribution is provided on the author's website `www-2.rotman.utoronto.ca/~hull/riskman`. \n",
    "\n",
    "\n",
    "Mapping of given values to standard normal distribution is done below. Further calculation of cumulative joint probability distribution of both values under bivirate normal distribution with a copula correlation of 0.4 is done in the given spreadsheet, with the result attached below. "
   ]
  },
  {
   "cell_type": "code",
   "execution_count": 210,
   "metadata": {},
   "outputs": [],
   "source": [
    "x = [7, 9, 11, 13]\n",
    "y = [5, 10, 30, 50]\n",
    "\n",
    "x_dist = sps.uniform(loc=5, scale=15-5)\n",
    "y_dist = sps.pareto(b=0.5, scale = 4) #scale = c\n",
    "std_norm = sps.norm"
   ]
  },
  {
   "cell_type": "code",
   "execution_count": 213,
   "metadata": {},
   "outputs": [
    {
     "name": "stdout",
     "output_type": "stream",
     "text": [
      "Percentile of distribution of x values: [0.2, 0.4, 0.6, 0.8]\n",
      "Mapped x values to std. normal dist.:   [-0.8416212335729142, -0.2533471031357997, 0.2533471031357997, 0.8416212335729143]\n",
      "Percentile of distribution of y values: [0.10557280900008414, 0.3675444679663241, 0.6348516283298893, 0.717157287525381]\n",
      "Mapped y values to std. normal dist.:   [-1.2504214910006977, -0.33836395189680224, 0.34473082330391736, 0.5744173352351937]\n"
     ]
    }
   ],
   "source": [
    "x_percentile = [x_dist.cdf(x_val) for x_val in x]\n",
    "x_map = [std_norm.ppf(x_perc) for x_perc in x_percentile]\n",
    "\n",
    "y_percentile = [y_dist.cdf(y_val) for y_val in y]\n",
    "y_map = [std_norm.ppf(y_perc) for y_perc in y_percentile]\n",
    "\n",
    "print(f'Percentile of distribution of x values: {x_percentile}')\n",
    "print(f'Mapped x values to std. normal dist.:   {x_map}')\n",
    "print(f'Percentile of distribution of y values: {y_percentile}')\n",
    "print(f'Mapped y values to std. normal dist.:   {y_map}')"
   ]
  },
  {
   "cell_type": "markdown",
   "metadata": {},
   "source": [
    "\\pagebreak\n",
    "# Question 4"
   ]
  },
  {
   "cell_type": "markdown",
   "metadata": {},
   "source": [
    "> 4. Five years of history for the S&P 500 is attached. March 2020 was a volatile period for the index. Imagine that it is March 13, 2020. Use the previous 251 days (250 percentage changes) to calculate the one-day value at risk and expected shortfall for a portfolio with $1000 invested in the index. Ignore dividends. Provide results for four different methods: \n",
    ">\n",
    "> - a) The basic historical simulation approach\n",
    ">\n",
    "> - b) Exponential weighting with $\\lambda = 0.995$\n",
    ">\n",
    "> - c) Volatility scaling with $\\lambda=0.94$ (assume an initial variance equal to the sample variance for the 250 changes)\n",
    ">\n",
    "> - d) Extreme value theory with $u=25$"
   ]
  },
  {
   "cell_type": "code",
   "execution_count": 4,
   "metadata": {},
   "outputs": [],
   "source": [
    "def pvg(pmt, i, g, t): \n",
    "    '''\n",
    "    Function to calculate the present value of a growing annuity (PVG), where: \n",
    "    pmt - annuity paid per term\n",
    "    i - interest rate per term\n",
    "    g - growth rate of payment per period\n",
    "    t - number of period\n",
    "    '''\n",
    "    return pmt / (i - g) * (1 - ((1 + g) / (1 + i))**t)\n",
    "\n",
    "def gfv(fv,i, g, t): \n",
    "    '''\n",
    "    Function to calculate the growing annuity required to fulfill a certain future value, \n",
    "    where the growth rate of such annuity is known, where: \n",
    "    fv - future value target\n",
    "    i - interest rate per term\n",
    "    g - growth rate of payment per period\n",
    "    t - number of period\n",
    "    '''\n",
    "    return fv * (i - g) / ((1 + i)**t - (1 + g)**t)"
   ]
  },
  {
   "cell_type": "markdown",
   "metadata": {},
   "source": [
    "\\pagebreak\n",
    "Actual *calculations of Q4 can be referred here:*"
   ]
  },
  {
   "cell_type": "code",
   "execution_count": 5,
   "metadata": {},
   "outputs": [
    {
     "name": "stdout",
     "output_type": "stream",
     "text": [
      "first year income: 1.0000\n",
      "final_income: 2.3901\n",
      "starting annual pension: 1.6730\n",
      "total pension payment: 24.2035\n",
      "annual contribution required: 0.2502\n"
     ]
    }
   ],
   "source": [
    "# Assumptions\n",
    "start_income = 1 # In real dollars\n",
    "print(f'first year income: {start_income:.4f}')\n",
    "# Given parameters: \n",
    "real_rate = 0.02\n",
    "work_length = 45\n",
    "pension_payout = 0.7\n",
    "pension_rate = -0.01\n",
    "pension_length = 18\n",
    "bond_return = 0.015\n",
    "\n",
    "# Calculation: \n",
    "# Employee's salary at his final year: \n",
    "# FV(PV=income, i=2%, t=44): - Note that the salary @ EOY1 is 1 \n",
    "final_income = npf.fv(real_rate, work_length-1, pmt=0, pv=-start_income)\n",
    "print(f'final_income: {final_income:.4f}')\n",
    "\n",
    "# Annual pension payout at the starting year: income * 70%\n",
    "annual_pension = final_income * pension_payout\n",
    "print(f'starting annual pension: {annual_pension:.4f}')\n",
    "\n",
    "# Total pension required: pension payout increased by pension rate and compounded by bond return\n",
    "# PV(A=annual_pension, i=1.5%, g=-1%, t=18)\n",
    "total_pension = pvg(pmt=annual_pension, i=bond_return, g=pension_rate, t=pension_length)\n",
    "print(f'total pension payment: {total_pension:.4f}')\n",
    "\n",
    "# Note: First pension payout should be at the beginning of the starting year,\n",
    "# .... which is essentially the end of the final year: same term of final salary\n",
    "\n",
    "# Percentage: While working, the compensation increased as salary increase and compounded by bond return\n",
    "# A(FV=total_pension, i=1.5%, g=2%, t=45)\n",
    "annual_contribution = gfv(fv=total_pension, i=bond_return, g=real_rate, t=work_length)\n",
    "print(f'annual contribution required: {annual_contribution:.4f}')"
   ]
  }
 ],
 "metadata": {
  "kernelspec": {
   "display_name": "ann_env",
   "language": "python",
   "name": "python3"
  },
  "language_info": {
   "codemirror_mode": {
    "name": "ipython",
    "version": 3
   },
   "file_extension": ".py",
   "mimetype": "text/x-python",
   "name": "python",
   "nbconvert_exporter": "python",
   "pygments_lexer": "ipython3",
   "version": "3.11.8"
  }
 },
 "nbformat": 4,
 "nbformat_minor": 2
}
