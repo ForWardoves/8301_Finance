{
 "cells": [
  {
   "cell_type": "code",
   "execution_count": 1,
   "metadata": {},
   "outputs": [],
   "source": [
    "import scipy.stats as sps\n",
    "import numpy_financial as npf"
   ]
  },
  {
   "cell_type": "markdown",
   "metadata": {},
   "source": [
    "# Question 1"
   ]
  },
  {
   "cell_type": "markdown",
   "metadata": {},
   "source": [
    "> 1.\tConsider Table 2.2 in text. Suppose that income before tax is normally distributed with mean 0.5 and standard deviation 2.8. The marginal tax rate is 30%. What is the probability that the equity will be wiped out in one year? Assume that losses can be carried back to offset taxes paid in previous years. (For example, a loss of 4 would become a loss of 2.8 (= 4*(1-0.3)) after taxes are taken into account.)   \n",
    "\n",
    "The probability that the equity will be wiped out in one year is **0.32%**. The calculation is shown below. "
   ]
  },
  {
   "cell_type": "code",
   "execution_count": 2,
   "metadata": {},
   "outputs": [
    {
     "name": "stdout",
     "output_type": "stream",
     "text": [
      "Probability of income exceeding equity: 0.32%\n"
     ]
    }
   ],
   "source": [
    "# Equity and income target\n",
    "equity = -5\n",
    "tax_rate = 0.3\n",
    "inc_tgt = equity / (1 - tax_rate)\n",
    "\n",
    "# Distribution parameter\n",
    "mu = 0.5\n",
    "std = 2.8\n",
    "\n",
    "# Probability of income (after tax) LOWER than target: \n",
    "prob = sps.norm.cdf(inc_tgt, mu, std)\n",
    "print(f'Probability of income exceeding equity: {round((prob)*100, 2)}%')"
   ]
  },
  {
   "cell_type": "markdown",
   "metadata": {},
   "source": [
    "\\pagebreak\n",
    "# Question 2"
   ]
  },
  {
   "cell_type": "markdown",
   "metadata": {},
   "source": [
    "> 2. Suppose that a bank’s main activity is that it pays an average of 0.5% per annum interest on one-year deposits and makes five-year loans at a fixed rate of 3% per annum. What risks is the bank taking? How could it manage those risks using swaps?\n",
    "\n",
    "__**Risks:**__\n",
    "\n",
    "- **Interest rate**: Should the situation remain at status quo, the bank could benefit from a net profit margin of 2.5%. However, market interest rate for deposit may increase in the near feature, increasing the bank's cost on attracting more deposits and hence squeezing its net profit margin. \n",
    "\n",
    "- **Credit**: Loans that the bank lent out may default just as any other borrowing activities. Depending on the macroeconomic situation, the default rate may be higher than the bank's prior expectation. A high default rate may significantly reduce the bank's profit margin. \n",
    "\n",
    "- **Liquidity**: Under the current product layout, where the bank's liabilities (as represented by deposits) have a shorter maturity cycle than the bank's assets (loans). In a hypothetical scenario where a large number of clients withdraw their deposits over a short period of time, the bank may face extensive liquidity issues as most of its assets are tied into the five-year loan contracts. \n",
    "\n",
    "__**Swaps:**__: \n",
    "\n",
    "- The bank can counter the interest rate risk by engaging in **interest rate swap** and swap its fixed-rate loan interest payment for floating rate payments. \n",
    "\n",
    "- Similarly, credit risk can be countered using **credit default swap**, where the bank can reach an agreement to another financial institution to take ownership of the loan and compensate the bank in the event of a loan default. In return, the bank would pay regular premium to said institution."
   ]
  },
  {
   "cell_type": "markdown",
   "metadata": {},
   "source": [
    "\\pagebreak\n",
    "# Question 3"
   ]
  },
  {
   "cell_type": "markdown",
   "metadata": {},
   "source": [
    "> 3.\tFrom Table 3.2 in the text the probabilities of a man aged 60 , 61, and 62 dying in the next year are 0.011447, 0.012352, and 0.013248, respectively. Calculate the minimum premium an insurance company should charge for a $5 million three-year term life insurance contract issued to a man aged 60. Assume that the premium is paid at the beginning of the year and that death always takes place half way through a year. The risk-free interest rate is 6% per year (with semi-annual compounding).\n",
    "\n",
    "Based on the above assumptions, a minimal annual premium of **$59,739.63** would need to be charged. "
   ]
  },
  {
   "cell_type": "code",
   "execution_count": 3,
   "metadata": {},
   "outputs": [
    {
     "name": "stdout",
     "output_type": "stream",
     "text": [
      "Expected mid-year payout: ${60: 57235.0, 61: 61053.03, 62: 64672.92}\n",
      "Expected total payout, at the time of insurance purchase: $167227.56\n",
      "Minimal premium required, annually: $59739.63\n"
     ]
    }
   ],
   "source": [
    "# Mortality rate: \n",
    "death_prob = { 60: 0.011447, 61: 0.012352, 62: 0.013248}\n",
    "# Other inputs: \n",
    "policy = 5*(1000000)\n",
    "i = 0.06/2\n",
    "loss_ratio = 0.75\n",
    "\n",
    "# For each year - mid year payout: \n",
    "payout_60 = policy * death_prob[60]\n",
    "payout_61 = policy * (1-death_prob[60]) * death_prob[61]\n",
    "payout_62 = policy * (1-death_prob[60]) * (1-death_prob[61]) * death_prob[62]\n",
    "payout = {60: round(payout_60,2), 61: round(payout_61,2), 62: round(payout_62,2)}\n",
    "\n",
    "# Convert payout to start of year: \n",
    "payout_pv = npf.pv(rate=i, nper=1, fv=-payout_60, pmt=0) + \\\n",
    "            npf.pv(rate=i, nper=3, fv=-payout_61, pmt=0) + \\\n",
    "            npf.pv(rate=i, nper=5, fv=-payout_62, pmt=0)\n",
    "\n",
    "# How many terms of premiums can we collect， discounted to PB: \n",
    "premium_term = 1 \\\n",
    "                + (1-death_prob[60]) * pow(1+i, -2) \\\n",
    "                + ((1-death_prob[60]) * (1-death_prob[61])) * pow(1+i, -4)\n",
    "\n",
    "# Premium will be ...\n",
    "premium = payout_pv/premium_term\n",
    "\n",
    "print(f'Expected mid-year payout: ${payout}')\n",
    "print(f'Expected total payout, at the time of insurance purchase: ${round(payout_pv, 2)}')\n",
    "print(f'Minimal premium required, annually: ${round(premium, 2)}')"
   ]
  },
  {
   "cell_type": "markdown",
   "metadata": {},
   "source": [
    "\\pagebreak\n",
    "# Question 4"
   ]
  },
  {
   "cell_type": "markdown",
   "metadata": {},
   "source": [
    "> 4. Suppose that in a certain defined benefit pension plan: \n",
    "> - (a) Employees work for 45 years earning wages that increase at a real rate of 2%, \n",
    "> - (b) employees retire with a pension equal to 70% of their final salary and the pension increases at the rate of inflation minus 1%, \n",
    "> - (c) The pension is received for 18 year\n",
    "> - (d) the pension fund’s income is invested in bonds which earn the inflation rate plus 1.5%.\n",
    ">\n",
    ">   Estimate the percentage of an employee’s salary that must be contributed to the pension plan if it is to remain solvent. (Hint: Do all calculations in real rather than nominal dollars.)\n",
    "\n",
    "The employee must contribute **25.02%** of its salary to keep the pension plan solvent. Calculations can be seen below. \n",
    "\n",
    "*For easiness of calculation, PVG formulas are established beforehand as functions:*"
   ]
  },
  {
   "cell_type": "code",
   "execution_count": 4,
   "metadata": {},
   "outputs": [],
   "source": [
    "def pvg(pmt, i, g, t): \n",
    "    '''\n",
    "    Function to calculate the present value of a growing annuity (PVG), where: \n",
    "    pmt - annuity paid per term\n",
    "    i - interest rate per term\n",
    "    g - growth rate of payment per period\n",
    "    t - number of period\n",
    "    '''\n",
    "    return pmt / (i - g) * (1 - ((1 + g) / (1 + i))**t)\n",
    "\n",
    "def gfv(fv,i, g, t): \n",
    "    '''\n",
    "    Function to calculate the growing annuity required to fulfill a certain future value, \n",
    "    where the growth rate of such annuity is known, where: \n",
    "    fv - future value target\n",
    "    i - interest rate per term\n",
    "    g - growth rate of payment per period\n",
    "    t - number of period\n",
    "    '''\n",
    "    return fv * (i - g) / ((1 + i)**t - (1 + g)**t)"
   ]
  },
  {
   "cell_type": "markdown",
   "metadata": {},
   "source": [
    "\\pagebreak\n",
    "Actual *calculations of Q4 can be referred here:*"
   ]
  },
  {
   "cell_type": "code",
   "execution_count": 5,
   "metadata": {},
   "outputs": [
    {
     "name": "stdout",
     "output_type": "stream",
     "text": [
      "first year income: 1.0000\n",
      "final_income: 2.3901\n",
      "starting annual pension: 1.6730\n",
      "total pension payment: 24.2035\n",
      "annual contribution required: 0.2502\n"
     ]
    }
   ],
   "source": [
    "# Assumptions\n",
    "start_income = 1 # In real dollars\n",
    "print(f'first year income: {start_income:.4f}')\n",
    "# Given parameters: \n",
    "real_rate = 0.02\n",
    "work_length = 45\n",
    "pension_payout = 0.7\n",
    "pension_rate = -0.01\n",
    "pension_length = 18\n",
    "bond_return = 0.015\n",
    "\n",
    "# Calculation: \n",
    "# Employee's salary at his final year: \n",
    "# FV(PV=income, i=2%, t=44): - Note that the salary @ EOY1 is 1 \n",
    "final_income = npf.fv(real_rate, work_length-1, pmt=0, pv=-start_income)\n",
    "print(f'final_income: {final_income:.4f}')\n",
    "\n",
    "# Annual pension payout at the starting year: income * 70%\n",
    "annual_pension = final_income * pension_payout\n",
    "print(f'starting annual pension: {annual_pension:.4f}')\n",
    "\n",
    "# Total pension required: pension payout increased by pension rate and compounded by bond return\n",
    "# PV(A=annual_pension, i=1.5%, g=-1%, t=18)\n",
    "total_pension = pvg(pmt=annual_pension, i=bond_return, g=pension_rate, t=pension_length)\n",
    "print(f'total pension payment: {total_pension:.4f}')\n",
    "\n",
    "# Note: First pension payout should be at the beginning of the starting year,\n",
    "# .... which is essentially the end of the final year: same term of final salary\n",
    "\n",
    "# Percentage: While working, the compensation increased as salary increase and compounded by bond return\n",
    "# A(FV=total_pension, i=1.5%, g=2%, t=45)\n",
    "annual_contribution = gfv(fv=total_pension, i=bond_return, g=real_rate, t=work_length)\n",
    "print(f'annual contribution required: {annual_contribution:.4f}')"
   ]
  }
 ],
 "metadata": {
  "kernelspec": {
   "display_name": "ann_env",
   "language": "python",
   "name": "python3"
  },
  "language_info": {
   "codemirror_mode": {
    "name": "ipython",
    "version": 3
   },
   "file_extension": ".py",
   "mimetype": "text/x-python",
   "name": "python",
   "nbconvert_exporter": "python",
   "pygments_lexer": "ipython3",
   "version": "3.10.13"
  }
 },
 "nbformat": 4,
 "nbformat_minor": 2
}
